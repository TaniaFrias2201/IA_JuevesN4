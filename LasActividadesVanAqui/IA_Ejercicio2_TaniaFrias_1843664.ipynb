{
  "nbformat": 4,
  "nbformat_minor": 0,
  "metadata": {
    "colab": {
      "name": "Untitled1.ipynb",
      "provenance": []
    },
    "kernelspec": {
      "name": "python3",
      "display_name": "Python 3"
    },
    "language_info": {
      "name": "python"
    }
  },
  "cells": [
    {
      "cell_type": "markdown",
      "metadata": {
        "id": "lSe95_f6DrU7"
      },
      "source": [
        "Actividad 3- Ejercicios Introducción Python Segunda Parte\n",
        "\n",
        "Alumna: Tania Elizabeth Frías López\n",
        "\n",
        "Matricula: 1843664\n",
        "\n",
        "Hora Clase: Jueves N4"
      ]
    },
    {
      "cell_type": "code",
      "metadata": {
        "colab": {
          "base_uri": "https://localhost:8080/"
        },
        "id": "ADeXon-jEJjH",
        "outputId": "09884fc1-e11b-449d-ecdf-6b3abc408246"
      },
      "source": [
        "#Ejercicio 1.1\n",
        "#En esta sección se le pide al usuario que ingrese sus 7 comidas favoritas\n",
        "fav1= input(\"¿Cual es tu primera comida favorita?:\")\n",
        "fav2= input(\"¿Cual es tu segunda comida favorita?:\")\n",
        "fav3= input(\"¿Cual es tu tercera comida favorita?:\")\n",
        "fav4= input(\"¿Cual es tu cuarta comida favorita?:\")\n",
        "fav5= input(\"¿Cual es tu quinta comida favorita?:\")\n",
        "fav6= input(\"¿Cual es tu sexta comida favorita?:\")\n",
        "fav7= input(\"¿Cual es tu séptima comida favorita?:\")\n",
        "\n",
        "#En esta sección se almacenan las 7 comidas favoritas en una lista\n",
        "comidas = [fav1,fav2 ,fav3, fav4, fav5, fav6, fav7]\n",
        "\n",
        "#Aquí se indica que se imprima cada una de las comidas, empezando desde el primer elemento de la lista y el último\n",
        "for x in comidas:\n",
        "  print (x)"
      ],
      "execution_count": null,
      "outputs": [
        {
          "output_type": "stream",
          "name": "stdout",
          "text": [
            "¿Cual es tu primera comida favorita?:Arroz con leche\n",
            "¿Cual es tu segunda comida favorita?:Pizza\n",
            "¿Cual es tu tercera comida favorita?:Hamburguesa\n",
            "¿Cual es tu cuarta comida favorita?:Enchiladas\n",
            "¿Cual es tu quinta comida favorita?:Flautas\n",
            "¿Cual es tu sexta comida favorita?:Mole\n",
            "¿Cual es tu séptima comida favorita?:Salmón\n",
            "Arroz con leche\n",
            "Pizza\n",
            "Hamburguesa\n",
            "Enchiladas\n",
            "Flautas\n",
            "Mole\n",
            "Salmón\n"
          ]
        }
      ]
    },
    {
      "cell_type": "code",
      "metadata": {
        "colab": {
          "base_uri": "https://localhost:8080/"
        },
        "id": "nrGK5MxUImSG",
        "outputId": "bbaee8d7-c125-48e5-caa3-391dfb0b1ecf"
      },
      "source": [
        "\n",
        "#Ejercicio 1.2\n",
        "#En esta sección se le pide al usuario que ingrese sus 7 comidas favoritas\n",
        "fav1= input(\"¿Cual es tu primera comida favorita?:\")\n",
        "fav2= input(\"¿Cual es tu segunda comida favorita?:\")\n",
        "fav3= input(\"¿Cual es tu tercera comida favorita?:\")\n",
        "fav4= input(\"¿Cual es tu cuarta comida favorita?:\")\n",
        "fav5= input(\"¿Cual es tu quinta comida favorita?:\")\n",
        "fav6= input(\"¿Cual es tu sexta comida favorita?:\")\n",
        "fav7= input(\"¿Cual es tu séptima comida favorita?:\")\n",
        "\n",
        "#En esta sección se almacenan las 7 comidas favoritas en una lista\n",
        "comidas = [fav1,fav2,fav3,fav4,fav5,fav6,fav7]\n",
        "\n",
        "#Aquí se indica que se imprima cada una de las comidas, empezando desde el primer elemento de la lista y el último\n",
        "#En este caso se le añadió la frase \"Una de mis comidad favoritas es:\" para que se imprimiera antes de cada comida\n",
        "for x in comidas:\n",
        "  print (\"Una de mis comidas favoritas es:\",x)  "
      ],
      "execution_count": null,
      "outputs": [
        {
          "output_type": "stream",
          "name": "stdout",
          "text": [
            "¿Cual es tu primera comida favorita?:Arroz \n",
            "¿Cual es tu segunda comida favorita?:Pizza\n",
            "¿Cual es tu tercera comida favorita?:Camarones\n",
            "¿Cual es tu cuarta comida favorita?:Enchiladas\n",
            "¿Cual es tu quinta comida favorita?:Empanadas\n",
            "¿Cual es tu sexta comida favorita?:Flautas\n",
            "¿Cual es tu séptima comida favorita?:Mole\n",
            "Una de mis comidas favoritas es: Arroz \n",
            "Una de mis comidas favoritas es: Pizza\n",
            "Una de mis comidas favoritas es: Camarones\n",
            "Una de mis comidas favoritas es: Enchiladas\n",
            "Una de mis comidas favoritas es: Empanadas\n",
            "Una de mis comidas favoritas es: Flautas\n",
            "Una de mis comidas favoritas es: Mole\n"
          ]
        }
      ]
    },
    {
      "cell_type": "code",
      "metadata": {
        "colab": {
          "base_uri": "https://localhost:8080/"
        },
        "id": "prDnBSVTKE8K",
        "outputId": "7742271b-25b5-47ca-ba7e-2484afb44e24"
      },
      "source": [
        "#Ejercicio 2   Juego Piedra, Papel y Tijera\n",
        "#En esta sección se manda a imprimir las opciones que el usuario tiene, para  que pueda visualizarlas\n",
        "print(\"Opción 1: Piedra\")\n",
        "print(\"Opción 2: Papel\")\n",
        "print(\"Opción 3: Tijera\")\n",
        "\n",
        "#Aquí se le pide a los dos usuarios que ingresen las opciones que eligieron\n",
        "jugador1= int(input(\"Jugador 1 ingrese elección:\"))\n",
        "jugador2= int(input(\"Jugador 2 ingrese elección:\"))\n",
        "\n",
        "#Se declaran las opciones como valores unitarios\n",
        "Piedra = 1\n",
        "Papel = 2\n",
        "Tijera = 3\n",
        "\n",
        "#En toda esta sección se realizan las posibles combinaciones existentes cuando el jugador 1 elige la opción 1\n",
        "if jugador1 == 1 and jugador2 == 2:\n",
        "  print(\"Jugador 2 gana\")\n",
        "\n",
        "elif jugador1 == 1 and jugador2 == 3:\n",
        "  print(\"Jugador 1 gana\")\n",
        "  \n",
        "\n",
        "#En toda esta sección se realizan las posibles combinaciones existentes cuando el jugador 1 elige la opción 2\n",
        "if jugador1 == 2 and jugador2 == 1:\n",
        "   print(\"Jugador 1 gana\")\n",
        "\n",
        "elif jugador1 == 2 and jugador2 == 3:\n",
        "   print(\"Jugador 2 gana\")\n",
        "\n",
        "\n",
        "#En toda esta sección se realizan las posibles combinaciones existentes cuando el jugador 1 elige la opción 3\n",
        "if jugador1 == 3 and jugador2 == 1:\n",
        "   print(\"Jugador 2 gana\")\n",
        "\n",
        "elif jugador1 == 3 and jugador2 == 2:\n",
        "   print(\"Jugador 1 gana\")\n",
        "\n",
        "\n",
        "#Aquí se manda a imprimir un \"Empate\" cuando ambos jugadores hayan elegido la misma opción\n",
        "if jugador1 == jugador2: \n",
        "  print(\"Empate\")"
      ],
      "execution_count": 21,
      "outputs": [
        {
          "output_type": "stream",
          "name": "stdout",
          "text": [
            "Opción 1: Piedra\n",
            "Opción 2: Papel\n",
            "Opción 3: Tijera\n",
            "Jugador 1 ingrese elección:1\n",
            "Jugador 2 ingrese elección:2\n",
            "Jugador 2 gana\n"
          ]
        }
      ]
    },
    {
      "cell_type": "code",
      "metadata": {
        "colab": {
          "base_uri": "https://localhost:8080/"
        },
        "id": "G7HO1TkQNoDz",
        "outputId": "03c8077c-0324-4671-9def-68bdf55bb303"
      },
      "source": [
        "#Ejercicio 3\n",
        "#En la lista numeros se almacen los 6 valores\n",
        "numeros = [1,2,3,4,5,6]\n",
        "\n",
        "#En esta sección el contador comienza en la sexta posición y termina cuando llega a la primera posición \n",
        "i = 6\n",
        "while i > 0:\n",
        "  print(numeros[0:i])\n",
        "  i -= 1\n",
        "\n",
        "#En esta sección el conteo inicia en la segunda posición y termina en la sexta\n",
        "i=2\n",
        "while i < 7:\n",
        "  print(numeros[0:i])\n",
        "  i += 1\n",
        "  \n"
      ],
      "execution_count": null,
      "outputs": [
        {
          "output_type": "stream",
          "name": "stdout",
          "text": [
            "[1, 2, 3, 4, 5, 6]\n",
            "[1, 2, 3, 4, 5]\n",
            "[1, 2, 3, 4]\n",
            "[1, 2, 3]\n",
            "[1, 2]\n",
            "[1]\n",
            "[1, 2]\n",
            "[1, 2, 3]\n",
            "[1, 2, 3, 4]\n",
            "[1, 2, 3, 4, 5]\n",
            "[1, 2, 3, 4, 5, 6]\n"
          ]
        }
      ]
    }
  ]
}