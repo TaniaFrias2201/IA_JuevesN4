{
  "nbformat": 4,
  "nbformat_minor": 0,
  "metadata": {
    "colab": {
      "name": "Untitled0.ipynb",
      "provenance": []
    },
    "kernelspec": {
      "name": "python3",
      "display_name": "Python 3"
    },
    "language_info": {
      "name": "python"
    }
  },
  "cells": [
    {
      "cell_type": "markdown",
      "metadata": {
        "id": "j14fxicfdIDf"
      },
      "source": [
        "Actividad 2: Ejercicios Introducción a Phyton\n",
        "\n",
        "Nombre: Tania Elizabeth Frías López\n",
        "\n",
        "Matricula: 1843664\n",
        "\n",
        "Asignatura: Inteligencia Artificial\n",
        "\n",
        "Jueves N4"
      ]
    },
    {
      "cell_type": "code",
      "metadata": {
        "colab": {
          "base_uri": "https://localhost:8080/",
          "height": 0
        },
        "id": "bfyxH0eadjAD",
        "outputId": "f8f2d48a-97da-4881-f085-6a0ff8d041b7"
      },
      "source": [
        "#Problema 1\n",
        "nombre = input(\"Cual es tu nombre: \")  #Aquí se le pide al usuario que ingrese su nombre, ya que se declara la variable \"nombre\" como una entrada de datos\n",
        "edad = input(\"Cual es tu edad: \") #De igual manera se le pide al usuario que ingrese su edad, declarando también esta variable como una entrada\n",
        "frase = input(\"Cual es tu frase favorita: \")  #En esta sección se le pide al usuario que ingrese su frase favorita, declarando de igual manera la variable \"frase\"\n",
        "autor = input(\"Quien es el autor de la frase: \")  #En esta sección se le pide al usuario que ingrese el nombre del autor de su frase favorita\n",
        "\n",
        "#En la siguiente sección se imprimirá la estructura de la frase que se desea mostrar, declarando el orden de las variables\n",
        "print(\"Mi nombre es\", nombre, \"tengo\", edad, \"años y mi frase favorita es\", frase, \" escrita por el autor\", autor)  "
      ],
      "execution_count": 27,
      "outputs": [
        {
          "output_type": "stream",
          "name": "stdout",
          "text": [
            "Cual es tu nombre: Tania\n",
            "Cual es tu edad: 20\n",
            "Cual es tu frase favorita: \"El valor de una idea radica en su uso \"\n",
            "Quien es el autor de la frase: Thomas Edison\n",
            "Mi nombre es Tania tengo 20 años y mi frase favorita es \"El valor de una idea radica en su uso \"  escrita por el autor Thomas Edison\n"
          ]
        }
      ]
    },
    {
      "cell_type": "code",
      "metadata": {
        "colab": {
          "base_uri": "https://localhost:8080/",
          "height": 0
        },
        "id": "izIQOQEqe1vl",
        "outputId": "148a762c-e10c-4bc9-93b1-62e3de550a8d"
      },
      "source": [
        "#Problema 2\n",
        "#En esta sección se declaran las variables y se imprimen para pedir al usuario que ingrese los datos necesarios\n",
        "x = int(input(\"Ingrese primer número entero:\"))\n",
        "y= int(input(\"Ingrese segundo número entero:\"))\n",
        "z= float(input(\"Ingrese primer número flotante:\"))\n",
        "w= float(input(\"Ingrese segundo número flotante:\"))\n",
        "\n",
        "print(\"Operaciones números enteros\") #En esta sección se realizan e imprimen las distintas operaciones aritméticas para los números enteros\n",
        "print(\"Suma:\", x + y)\n",
        "print(\"Resta:\", x - y)\n",
        "print(\"Multiplicación:\", x * y)\n",
        "print(\"División:\", x / y)\n",
        "\n",
        "print(\"Operaciones números flotantes\") #En esta sección se realizan e imprimen las distintas operaciones aritméticas para los números flotantes\n",
        "print(\"Suma:\", z + w)\n",
        "print(\"Resta:\", z - w)\n",
        "print(\"Multiplicación:\", z * w)\n",
        "print(\"División:\", z / w)\n",
        "\n",
        "#Se verifica el tipo de dato\n",
        "print(\"Tipo de variables\")\n",
        "print(type(x))\n",
        "print(type(y))\n",
        "print(type(z))\n",
        "print(type(w))\n",
        "\n",
        "\n"
      ],
      "execution_count": 29,
      "outputs": [
        {
          "output_type": "stream",
          "name": "stdout",
          "text": [
            "Ingrese primer número entero:2\n",
            "Ingrese segundo número entero:3\n",
            "Ingrese primer número flotante:2.1\n",
            "Ingrese segundo número flotante:2.3\n",
            "Operaciones números enteros\n",
            "Suma: 5\n",
            "Resta: -1\n",
            "Multiplicación: 6\n",
            "División: 0.6666666666666666\n",
            "Operaciones números flotantes\n",
            "Suma: 4.4\n",
            "Resta: -0.19999999999999973\n",
            "Multiplicación: 4.83\n",
            "División: 0.9130434782608696\n",
            "Tipo de variables\n",
            "<class 'int'>\n",
            "<class 'int'>\n",
            "<class 'float'>\n",
            "<class 'float'>\n"
          ]
        }
      ]
    },
    {
      "cell_type": "code",
      "metadata": {
        "colab": {
          "base_uri": "https://localhost:8080/",
          "height": 0
        },
        "id": "PxI7zboMiufY",
        "outputId": "cb101bef-5eef-4d8f-c051-bb141ec1df72"
      },
      "source": [
        "#Problema 3\n",
        "x = 1  #Se declara la variable y se le asigna un valor fijo\n",
        "\n",
        "#En esta sección se declaran las tipos variables de \"y\" y \"z\", y de igual manera se le indica al usuario que ingrese los valores deseados, los cuales serán asignados a dichas variables definidas previamente\n",
        "y = int(input(\"Ingrese valor de y:\"))  #\n",
        "z = int(input(\"Ingrese valor de z:\"))\n",
        "\n",
        "#Compuerta AND (Se evaluarán dos expresiones, en el caso de que ambas se cumplan, el programa mostrará un valor \"True\", en el caso de que alguna no se cumpla, se mostrará un resultado \"False\")\n",
        "print(\"Compuerta AND\")\n",
        "\n",
        "if y==x and z==x:\n",
        "  print(\"True\")\n",
        "elif y!=x and z!=x:\n",
        "  print(\"False\")\n",
        "else:\n",
        "  print(\"False\")\n",
        "\n",
        "#Compuerta OR (Se evaluarán dos expresiones, en el caso de que ambas o una sola condición se cumpla, el programa mostrará un valor \"True\", en el caso de que ambas condiciones no se cumplan, se mostrará un resultado \"False\")\n",
        "print(\"Compuerta OR\")\n",
        "\n",
        "if y==x or z==x:\n",
        "  print(\"True\")\n",
        "elif y!=x or z!=x:\n",
        "  print(\"True\")\n",
        "else:\n",
        "  print(\"False\")\n",
        "\n",
        "#Compuerta NOT (Si la condición se cumple, se mostrará un resultado \"False\" y en el caso en el que no se cumpla la condición, se mostrará un resultado \"True\")\n",
        "print(\"Compuerta NOT\")\n",
        "\n",
        "if y==x:\n",
        "  print(\"False\")\n",
        "else:\n",
        "  print(\"True\")  \n",
        "\n",
        "if z==x:\n",
        "  print(\"False\")\n",
        "else:\n",
        "  print(\"True\")  "
      ],
      "execution_count": 24,
      "outputs": [
        {
          "output_type": "stream",
          "name": "stdout",
          "text": [
            "Ingrese valor de y:1\n",
            "Ingrese valor de z:1\n",
            "Compuerta AND\n",
            "True\n",
            "Compuerta OR\n",
            "True\n",
            "Compuerta NOT\n",
            "False\n",
            "False\n"
          ]
        }
      ]
    }
  ]
}