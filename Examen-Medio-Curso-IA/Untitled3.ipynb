{
  "nbformat": 4,
  "nbformat_minor": 0,
  "metadata": {
    "colab": {
      "name": "Untitled3.ipynb",
      "provenance": []
    },
    "kernelspec": {
      "name": "python3",
      "display_name": "Python 3"
    },
    "language_info": {
      "name": "python"
    }
  },
  "cells": [
    {
      "cell_type": "markdown",
      "metadata": {
        "id": "0CGxfezv9fsU"
      },
      "source": [
        "Inteligencia Artificial y Redes Neuronales\n",
        "\n",
        "Examen Medio Curso\n",
        "\n",
        "Alumna: Tania Elizabeth Frías López\n",
        "\n",
        "Matrícula: 1843664\n",
        "\n",
        "Carrera: Ingeniero Biomédico\n"
      ]
    },
    {
      "cell_type": "code",
      "metadata": {
        "id": "VbtPBkSMA0QH",
        "colab": {
          "base_uri": "https://localhost:8080/"
        },
        "outputId": "4375a461-263d-4059-b56f-968a67a66ab2"
      },
      "source": [
        "#Ejercicio 1\n",
        "ex_lista=[10,15,17,21,22,34,37,40,45,52,66,68,81,84,91,94,102,105,109]\n",
        "\n",
        "for x in ex_lista:\n",
        "  if x%2 == 0:\n",
        "    ex_lista.remove(x)\n",
        "\n",
        "print(ex_lista)\n",
        "\n",
        "\n"
      ],
      "execution_count": 40,
      "outputs": [
        {
          "output_type": "stream",
          "name": "stdout",
          "text": [
            "[15, 17, 21, 34, 37, 45, 66, 81, 91, 102, 105, 109]\n"
          ]
        }
      ]
    },
    {
      "cell_type": "code",
      "metadata": {
        "colab": {
          "base_uri": "https://localhost:8080/"
        },
        "id": "CZsip9WjEgsa",
        "outputId": "88ba9b7b-baa4-47c4-c1aa-4abbaa78c060"
      },
      "source": [
        "#Ejercicio 2\n",
        "peli1 = input(\"¿Cuál pelicula ocupa el primer lugar de tu lista de peliculas favoritas?\")\n",
        "peli2 = input(\"¿Cuál pelicula ocupa el segundo lugar de tu lista de peliculas favoritas?\")\n",
        "peli3 = input(\"¿Cuál pelicula ocupa el tercer lugar de tu lista de peliculas favoritas?\")\n",
        "peli4 = input(\"¿Cuál pelicula ocupa el cuarto lugar de tu lista de peliculas favoritas?\")\n",
        "peli5 = input(\"¿Cuál pelicula ocupa el quinto lugar de tu lista de peliculas favoritas?\")\n",
        "\n",
        "#Aquí se procede a almacenar los datos anteriores en una lista\n",
        "\n",
        "top_peliculas = [peli1, peli2, peli3, peli4, peli5]\n",
        "\n",
        "i=1\n",
        "for x in top_peliculas:\n",
        "\n",
        "  print(\"La película\",x, \"está en la posición\",i, \"de mi top 5\")\n",
        "  i+=1\n",
        "\n"
      ],
      "execution_count": 24,
      "outputs": [
        {
          "output_type": "stream",
          "name": "stdout",
          "text": [
            "¿Cuál pelicula ocupa el primer lugar de tu lista de peliculas favoritas?Avengers End Game\n",
            "¿Cuál pelicula ocupa el segundo lugar de tu lista de peliculas favoritas?Rapunzel\n",
            "¿Cuál pelicula ocupa el tercer lugar de tu lista de peliculas favoritas?Duro de Matar\n",
            "¿Cuál pelicula ocupa el cuarto lugar de tu lista de peliculas favoritas?Misión Imposible\n",
            "¿Cuál pelicula ocupa el quinto lugar de tu lista de peliculas favoritas?Home\n",
            "La película Avengers End Game está en la posición 1 de mi top 5\n",
            "La película Rapunzel está en la posición 2 de mi top 5\n",
            "La película Duro de Matar está en la posición 3 de mi top 5\n",
            "La película Misión Imposible está en la posición 4 de mi top 5\n",
            "La película Home está en la posición 5 de mi top 5\n"
          ]
        }
      ]
    }
  ]
}